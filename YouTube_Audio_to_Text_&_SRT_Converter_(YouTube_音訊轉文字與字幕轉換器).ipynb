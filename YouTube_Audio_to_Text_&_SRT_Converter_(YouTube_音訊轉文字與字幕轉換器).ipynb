{
  "nbformat": 4,
  "nbformat_minor": 0,
  "metadata": {
    "colab": {
      "provenance": [],
      "gpuType": "T4",
      "authorship_tag": "ABX9TyMR24aVG3JP63QRg5BvpCcO",
      "include_colab_link": true
    },
    "kernelspec": {
      "name": "python3",
      "display_name": "Python 3"
    },
    "language_info": {
      "name": "python"
    },
    "accelerator": "GPU"
  },
  "cells": [
    {
      "cell_type": "markdown",
      "metadata": {
        "id": "view-in-github",
        "colab_type": "text"
      },
      "source": [
        "<a href=\"https://colab.research.google.com/github/ss1111119/youtube-audio-to-text-srt-converter/blob/main/YouTube_Audio_to_Text_%26_SRT_Converter_(YouTube_%E9%9F%B3%E8%A8%8A%E8%BD%89%E6%96%87%E5%AD%97%E8%88%87%E5%AD%97%E5%B9%95%E8%BD%89%E6%8F%9B%E5%99%A8).ipynb\" target=\"_parent\"><img src=\"https://colab.research.google.com/assets/colab-badge.svg\" alt=\"Open In Colab\"/></a>"
      ]
    },
    {
      "cell_type": "markdown",
      "source": [
        "  步驟 1：設定 Colab 執行環境\n",
        "\n",
        "1. 在 Colab 中，選擇 **\"Runtime\"** > **\"Change runtime type\"**，然後在 **\"Hardware accelerator\"** 選擇 **\"GPU\"**，並確保選擇的是 **T4 GPU**。這樣可以加速後續的語音辨識處理。\n",
        "\n",
        "2. 接下來，您需要安裝以下兩個必要的 Python 庫：\n",
        "   - **Whisper**：由 OpenAI 提供的語音辨識模型。\n",
        "   - **yt-dlp**：用來下載 YouTube 影片的音訊。\n"
      ],
      "metadata": {
        "id": "xqZQ3G-xK1oA"
      }
    },
    {
      "cell_type": "code",
      "execution_count": null,
      "metadata": {
        "id": "yqQMMEpCoTEA"
      },
      "outputs": [],
      "source": [
        "!pip install -q git+https://github.com/openai/whisper.git\n",
        "!pip install yt-dlp"
      ]
    },
    {
      "cell_type": "markdown",
      "source": [],
      "metadata": {
        "id": "GGxjtFvkMZC2"
      }
    },
    {
      "cell_type": "markdown",
      "source": [
        "步驟 2：使用教學\n",
        "\n",
        "### 1.\t下載 YouTube 影片音訊\n",
        "\n",
        "您可以在程式碼中輸入您想要處理的 YouTube 影片 URL。程式會使用 yt-dlp 下載影片音訊並提取音訊檔案。\n",
        "\n",
        "### 2.\t選擇 Whisper 模型\n",
        "\n",
        "您將會被要求選擇想要使用的 Whisper 模型，模型的選擇會影響語音辨識的精度和速度。可選擇的模型包括：\n",
        "\n",
        "\t•\ttiny\n",
        "\t•\tbase\n",
        "\t•\tsmall\n",
        "\t•\tmedium\n",
        "\t•\tlarge\n",
        "\t•\tlarge-v2\n",
        "\t•\tlarge-v3\n",
        "\n",
        "### 3.\t選擇保存檔案格式\n",
        "您可以選擇是否將辨識結果保存為文字檔（.txt）或字幕檔（.srt）。程式會根據您的選擇生成並保存相應的檔案。\n",
        "\n",
        "### 4.\t執行語音辨識\n",
        "程式會自動使用 Whisper 模型對下載的音訊進行語音辨識，並將結果保存在指定格式的檔案中。您將能夠下載辨識結果檔案。\n",
        "\n",
        "### 5.\t清理與釋放記憶體\n",
        "語音辨識完成後，程式會刪除音訊檔案並清理 GPU 快取，釋放資源。\n",
        "\n",
        "範例流程\n",
        "\n",
        "\t•\t輸入 YouTube 影片 URL。\n",
        "\t•\t選擇 Whisper 模型（例如 large）。\n",
        "\t•\t選擇是否保存為文字檔和/或字幕檔。\n",
        "\t•\t執行程式後，等待語音辨識完成並下載結果檔案。\n",
        "\n",
        "這樣，您就完成了 YouTube 影片的語音辨識，並將結果保存為您選擇的格式。"
      ],
      "metadata": {
        "id": "VFAfev3rK_4j"
      }
    },
    {
      "cell_type": "code",
      "source": [
        "import os\n",
        "import torch\n",
        "import whisper\n",
        "from pathlib import Path\n",
        "from google.colab import files\n",
        "import yt_dlp\n",
        "\n",
        "# 設定裝置\n",
        "device = \"cuda\" if torch.cuda.is_available() else \"cpu\"\n",
        "\n",
        "# 載入Whisper模型\n",
        "def load_model(model_size):\n",
        "    return whisper.load_model(model_size).to(device)\n",
        "\n",
        "# 下載YouTube影片的音訊\n",
        "def download_audio_from_youtube(url, out_dir=\".\"):\n",
        "    ydl_opts = {\n",
        "        'format': 'bestaudio/best',\n",
        "        'extractaudio': True,\n",
        "        'audioquality': 1,\n",
        "        'outtmpl': f'{out_dir}/%(id)s.%(ext)s',\n",
        "        'quiet': False,\n",
        "    }\n",
        "    with yt_dlp.YoutubeDL(ydl_opts) as ydl:\n",
        "        info_dict = ydl.extract_info(url, download=True)\n",
        "        file_name = ydl.prepare_filename(info_dict)\n",
        "        video_title = info_dict.get('title', 'Untitled')  # 獲取影片標題\n",
        "    return file_name, video_title\n",
        "\n",
        "# 進行語音辨識\n",
        "def transcribe_audio(model, file, text=True, srt=True, title=None):\n",
        "    file_path = Path(file)\n",
        "    output_directory = file_path.parent\n",
        "\n",
        "    # 使用Whisper進行語音辨識\n",
        "    result = model.transcribe(file, verbose=False)\n",
        "\n",
        "    # 生成並保存文字檔 (.txt)\n",
        "    if text:\n",
        "        txt_path = file_path.with_suffix(\".txt\")\n",
        "        with open(txt_path, \"w\", encoding=\"utf-8\") as txt:\n",
        "            txt.write(result[\"text\"])\n",
        "\n",
        "    # 生成並保存字幕檔 (.srt)\n",
        "    if srt:\n",
        "        srt_writer = whisper.utils.get_writer(\"srt\", output_directory)\n",
        "        srt_content = result[\"segments\"]\n",
        "\n",
        "        # 在srt檔案最前面加入影片標題\n",
        "        srt_content.insert(0, {'start': 0, 'end': 0, 'text': f\"Title: {title}\\n\\n\"})\n",
        "\n",
        "        # 使用影片標題來命名字幕檔\n",
        "        srt_filename = f\"{title}.srt\"\n",
        "        srt_writer({\"segments\": srt_content}, srt_filename)\n",
        "\n",
        "    # 下載完成後刪除音訊檔\n",
        "    if file_path.exists():\n",
        "        os.remove(file_path)\n",
        "        print(f\"音訊檔已被刪除：{file_path}\")\n",
        "\n",
        "    # 顯示已保存的檔案\n",
        "    print(f\"檔案已保存：{title}.txt 和 {title}.srt\")\n",
        "    return result\n",
        "\n",
        "# 使用者輸入\n",
        "YouTube_URL = input(\"請輸入YouTube影片的URL：\")\n",
        "whisper_model = input(\"請選擇Whisper模型（tiny, base, small, medium, large, large-v2, large-v3）：\")\n",
        "text = input(\"是否保存為文字檔（.txt）？(yes/no)：\").strip().lower() == 'yes'\n",
        "srt = input(\"是否保存為字幕檔（.srt）？(yes/no)：\").strip().lower() == 'yes'\n",
        "\n",
        "# 下載音訊並進行語音辨識\n",
        "audio, video_title = download_audio_from_youtube(YouTube_URL)\n",
        "model = load_model(whisper_model)\n",
        "result = transcribe_audio(model, audio, text, srt, video_title)\n",
        "\n",
        "del model  # 刪除模型\n",
        "torch.cuda.empty_cache()  # 清空CUDA缓存"
      ],
      "metadata": {
        "id": "qvqaMDcWoVoP"
      },
      "execution_count": null,
      "outputs": []
    }
  ]
}